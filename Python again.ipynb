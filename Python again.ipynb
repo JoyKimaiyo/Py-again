{
 "cells": [
  {
   "cell_type": "markdown",
   "id": "729578a9-9c1c-4460-a2ce-ffca4f197ee2",
   "metadata": {},
   "source": [
    "  ## Introduction to Python"
   ]
  },
  {
   "cell_type": "code",
   "execution_count": 1,
   "id": "08a142b2-1dac-4c2b-a7a0-74178dc21664",
   "metadata": {},
   "outputs": [
    {
     "name": "stdout",
     "output_type": "stream",
     "text": [
      "Joy\n"
     ]
    }
   ],
   "source": [
    " #variables store information: spaces x undescores: special characters x: start numbers x: \n",
    "var = 'Joy'\n",
    "print(var)"
   ]
  },
  {
   "cell_type": "code",
   "execution_count": 2,
   "id": "4aa61818-529b-445c-bf50-691cfe08fa8a",
   "metadata": {},
   "outputs": [
    {
     "data": {
      "text/plain": [
       "'Odell'"
      ]
     },
     "metadata": {},
     "output_type": "display_data"
    }
   ],
   "source": [
    "first_name = 'odell'\n",
    "last_name = 'Johnson'\n",
    "\n",
    "first_name ='Odell'\n",
    "\n",
    "display(first_name)"
   ]
  },
  {
   "cell_type": "markdown",
   "id": "bd9fb712-d648-4ca4-9d35-3ddf62712f87",
   "metadata": {},
   "source": [
    "### variable types"
   ]
  },
  {
   "cell_type": "code",
   "execution_count": 3,
   "id": "169cd204-0e00-4399-b67b-a3bdd0dc4532",
   "metadata": {},
   "outputs": [
    {
     "data": {
      "text/plain": [
       "'JOY'"
      ]
     },
     "execution_count": 3,
     "metadata": {},
     "output_type": "execute_result"
    }
   ],
   "source": [
    "# strings\n",
    "name = 'joy'\n",
    "name.upper() "
   ]
  },
  {
   "cell_type": "code",
   "execution_count": 4,
   "id": "1786844e-d890-43a8-a0fc-14039c266b25",
   "metadata": {},
   "outputs": [
    {
     "data": {
      "text/plain": [
       "'joy'"
      ]
     },
     "execution_count": 4,
     "metadata": {},
     "output_type": "execute_result"
    }
   ],
   "source": [
    "name.lower()"
   ]
  },
  {
   "cell_type": "code",
   "execution_count": 5,
   "id": "9f75c8de-58e4-44ce-b2db-e51508a69f9b",
   "metadata": {},
   "outputs": [
    {
     "data": {
      "text/plain": [
       "'Joy'"
      ]
     },
     "execution_count": 5,
     "metadata": {},
     "output_type": "execute_result"
    }
   ],
   "source": [
    "name.capitalize()"
   ]
  },
  {
   "cell_type": "code",
   "execution_count": 6,
   "id": "f79a33c0-7b59-4b7f-8ad2-44d68744f7b5",
   "metadata": {},
   "outputs": [
    {
     "data": {
      "text/plain": [
       "604.0"
      ]
     },
     "execution_count": 6,
     "metadata": {},
     "output_type": "execute_result"
    }
   ],
   "source": [
    "#floats and intergers\n",
    "num1 = 20 # int\n",
    "num2= 30.2 #float\n",
    "num1 * num2"
   ]
  },
  {
   "cell_type": "code",
   "execution_count": 7,
   "id": "9e8165cc-d0ba-47ca-bba7-260b398d7cea",
   "metadata": {},
   "outputs": [
    {
     "data": {
      "text/plain": [
       "True"
      ]
     },
     "execution_count": 7,
     "metadata": {},
     "output_type": "execute_result"
    }
   ],
   "source": [
    "#booleans\n",
    "x=9\n",
    "y=6\n",
    "x>6"
   ]
  },
  {
   "cell_type": "code",
   "execution_count": 8,
   "id": "25ae0a4a-8aab-4b62-ab1d-ad1cff020421",
   "metadata": {},
   "outputs": [
    {
     "data": {
      "text/plain": [
       "int"
      ]
     },
     "execution_count": 8,
     "metadata": {},
     "output_type": "execute_result"
    }
   ],
   "source": [
    "#checkin for type of variables\n",
    "x=2\n",
    "type(x)"
   ]
  },
  {
   "cell_type": "markdown",
   "id": "cb0783f7-f454-4fef-abac-8e16a5d3df3a",
   "metadata": {},
   "source": [
    "#### convertin variable types"
   ]
  },
  {
   "cell_type": "code",
   "execution_count": 9,
   "id": "d99b2817-6a75-413d-a544-feb08631fefa",
   "metadata": {},
   "outputs": [
    {
     "data": {
      "text/plain": [
       "2"
      ]
     },
     "execution_count": 9,
     "metadata": {},
     "output_type": "execute_result"
    }
   ],
   "source": [
    "num = '2'\n",
    "int(num)"
   ]
  },
  {
   "cell_type": "code",
   "execution_count": 10,
   "id": "d07a1075-0ce9-4f88-933a-af9569dcc110",
   "metadata": {},
   "outputs": [
    {
     "data": {
      "text/plain": [
       "3"
      ]
     },
     "execution_count": 10,
     "metadata": {},
     "output_type": "execute_result"
    }
   ],
   "source": [
    "num = 3.2\n",
    "int(num)"
   ]
  },
  {
   "cell_type": "code",
   "execution_count": 11,
   "id": "dda4644b-3ed4-495d-a23e-81b4b7768185",
   "metadata": {},
   "outputs": [
    {
     "data": {
      "text/plain": [
       "2.0"
      ]
     },
     "execution_count": 11,
     "metadata": {},
     "output_type": "execute_result"
    }
   ],
   "source": [
    "num=2\n",
    "float(num)"
   ]
  },
  {
   "cell_type": "code",
   "execution_count": 12,
   "id": "f143ba9b-9ae6-43ab-960e-4264682c3b84",
   "metadata": {},
   "outputs": [
    {
     "data": {
      "text/plain": [
       "'2'"
      ]
     },
     "execution_count": 12,
     "metadata": {},
     "output_type": "execute_result"
    }
   ],
   "source": [
    "str(num)"
   ]
  },
  {
   "cell_type": "markdown",
   "id": "c367d49e-7bed-4cd1-92af-4ff87bd73cd2",
   "metadata": {},
   "source": [
    "### Data Structures"
   ]
  },
  {
   "cell_type": "code",
   "execution_count": 13,
   "id": "c43c4dbd-d0a7-43a8-bb1c-9a2bbde59533",
   "metadata": {},
   "outputs": [
    {
     "name": "stdout",
     "output_type": "stream",
     "text": [
      "[1, 2, 3, 4, 5]\n"
     ]
    }
   ],
   "source": [
    "#lists\n",
    "myList = [1,2,3,4,5 ]\n",
    "print(myList )"
   ]
  },
  {
   "cell_type": "code",
   "execution_count": 14,
   "id": "90e9cf4e-0326-4424-962c-f7caa795f243",
   "metadata": {},
   "outputs": [
    {
     "data": {
      "text/plain": [
       "1"
      ]
     },
     "execution_count": 14,
     "metadata": {},
     "output_type": "execute_result"
    }
   ],
   "source": [
    "#indexin and Slicin a list\n",
    "myList[0] #indexin"
   ]
  },
  {
   "cell_type": "code",
   "execution_count": 15,
   "id": "491f2faa-eb59-4523-b265-73028a2b78c3",
   "metadata": {},
   "outputs": [
    {
     "data": {
      "text/plain": [
       "3"
      ]
     },
     "execution_count": 15,
     "metadata": {},
     "output_type": "execute_result"
    }
   ],
   "source": [
    "myList[-3]"
   ]
  },
  {
   "cell_type": "code",
   "execution_count": 16,
   "id": "fafc8924-649e-4f4b-a038-5a2e61184860",
   "metadata": {},
   "outputs": [
    {
     "data": {
      "text/plain": [
       "[1, 2, 3]"
      ]
     },
     "execution_count": 16,
     "metadata": {},
     "output_type": "execute_result"
    }
   ],
   "source": [
    "# Slicin a list\n",
    "myList[0:3]"
   ]
  },
  {
   "cell_type": "code",
   "execution_count": 17,
   "id": "ffe8e5ad-d156-42fa-9ce5-6c2291f3e350",
   "metadata": {},
   "outputs": [
    {
     "data": {
      "text/plain": [
       "5"
      ]
     },
     "execution_count": 17,
     "metadata": {},
     "output_type": "execute_result"
    }
   ],
   "source": [
    "#inbuilt functions for a lists\n",
    "len(myList) "
   ]
  },
  {
   "cell_type": "code",
   "execution_count": 18,
   "id": "52bb8205-fc37-4add-b72b-e999a93e06ae",
   "metadata": {},
   "outputs": [
    {
     "data": {
      "text/plain": [
       "[1, 2, 3, 4, 5, 6]"
      ]
     },
     "execution_count": 18,
     "metadata": {},
     "output_type": "execute_result"
    }
   ],
   "source": [
    "myList.append(6)\n",
    "myList"
   ]
  },
  {
   "cell_type": "code",
   "execution_count": 21,
   "id": "e00e8184-4a90-41fd-84f8-7e2e3f2c8230",
   "metadata": {},
   "outputs": [
    {
     "data": {
      "text/plain": [
       "2"
      ]
     },
     "execution_count": 21,
     "metadata": {},
     "output_type": "execute_result"
    }
   ],
   "source": [
    "#tuples not mutable we cannot append\n",
    "myList2 = (1,2,3,4,5,6,7)\n",
    "myList2[ 1 ]"
   ]
  },
  {
   "cell_type": "code",
   "execution_count": 22,
   "id": "b99e1880-0810-42a1-999f-585c9f2d0988",
   "metadata": {},
   "outputs": [
    {
     "data": {
      "text/plain": [
       "(1, 2, 3)"
      ]
     },
     "execution_count": 22,
     "metadata": {},
     "output_type": "execute_result"
    }
   ],
   "source": [
    "myList2[0:3]"
   ]
  },
  {
   "cell_type": "code",
   "execution_count": 2,
   "id": "966ee042-fbf9-4903-a5e6-a590e8d8bdef",
   "metadata": {},
   "outputs": [
    {
     "data": {
      "text/plain": [
       "{'mexico': 'drugs',\n",
       " 'italy': 'food',\n",
       " 'US': 'wars',\n",
       " 'Jamaica': 'Awesome',\n",
       " 'Egypt': 'pyramids'}"
      ]
     },
     "execution_count": 2,
     "metadata": {},
     "output_type": "execute_result"
    }
   ],
   "source": [
    "#dictionaries key (mexico) and value (drugs) and is mutable\n",
    "countries = {'mexico': 'drugs', 'italy': 'food', 'US': 'wars', 'Jamaica': 'Awesome', 'Egypt': 'pyramids'}\n",
    "countries"
   ]
  },
  {
   "cell_type": "code",
   "execution_count": 4,
   "id": "4602d3a1-7573-4553-bfeb-ee355195d52b",
   "metadata": {},
   "outputs": [
    {
     "data": {
      "text/plain": [
       "'drugs'"
      ]
     },
     "execution_count": 4,
     "metadata": {},
     "output_type": "execute_result"
    }
   ],
   "source": [
    "countries['mexico']"
   ]
  },
  {
   "cell_type": "code",
   "execution_count": 6,
   "id": "43678808-29b7-4ee7-bce9-aa7efe6a9fcf",
   "metadata": {},
   "outputs": [
    {
     "data": {
      "text/plain": [
       "dict_keys(['mexico', 'italy', 'US', 'Jamaica', 'Egypt'])"
      ]
     },
     "execution_count": 6,
     "metadata": {},
     "output_type": "execute_result"
    }
   ],
   "source": [
    "countries.keys()"
   ]
  },
  {
   "cell_type": "code",
   "execution_count": 7,
   "id": "2ddee9b3-2d41-4c8c-b8f8-75152d9ab47b",
   "metadata": {},
   "outputs": [
    {
     "data": {
      "text/plain": [
       "dict_values(['drugs', 'food', 'wars', 'Awesome', 'pyramids'])"
      ]
     },
     "execution_count": 7,
     "metadata": {},
     "output_type": "execute_result"
    }
   ],
   "source": [
    "countries.values()"
   ]
  },
  {
   "cell_type": "markdown",
   "id": "a5ad4a31-6f70-4c78-bfa4-e18a00615153",
   "metadata": {},
   "source": [
    "####  conditional Statements"
   ]
  },
  {
   "cell_type": "code",
   "execution_count": 8,
   "id": "da7e79e8-9a71-4297-a95b-3bb6369210d1",
   "metadata": {},
   "outputs": [
    {
     "name": "stdout",
     "output_type": "stream",
     "text": [
      "You are an Adult\n"
     ]
    }
   ],
   "source": [
    "# if statements\n",
    "myAge = 25\n",
    "if myAge>18:\n",
    "    print('You are an Adult')\n",
    "\n",
    " "
   ]
  },
  {
   "cell_type": "code",
   "execution_count": 9,
   "id": "18adcc1d-19a5-4be8-bf7f-0dff31b6db0c",
   "metadata": {},
   "outputs": [
    {
     "name": "stdout",
     "output_type": "stream",
     "text": [
      "You are an Adult\n"
     ]
    }
   ],
   "source": [
    "myAge = 25\n",
    "if myAge>18:\n",
    "    print('You are an Adult')\n",
    "else:\n",
    "    print ('you are a minor')"
   ]
  },
  {
   "cell_type": "code",
   "execution_count": 11,
   "id": "5978ed44-f6cc-4cfa-b9eb-3b305c36efd0",
   "metadata": {},
   "outputs": [
    {
     "name": "stdout",
     "output_type": "stream",
     "text": [
      "minus 1 from seven\n"
     ]
    }
   ],
   "source": [
    "x=6\n",
    "if x<5:\n",
    "    print('x is greater than 5')\n",
    "elif x>=5 +2:\n",
    "    print ('add one to five')\n",
    "elif x>= 7-1:\n",
    "    print('minus 1 from seven')\n"
   ]
  },
  {
   "cell_type": "code",
   "execution_count": 14,
   "id": "1ae7400b-4c02-4b75-9279-432efca6f2bd",
   "metadata": {},
   "outputs": [
    {
     "name": "stdout",
     "output_type": "stream",
     "text": [
      "you are ired\n"
     ]
    }
   ],
   "source": [
    "#nested\n",
    "knowsPython = True \n",
    "knowsSQl = False\n",
    "if knowsPython== True:\n",
    "    if knowsSQl:\n",
    "        print('You are not hired')\n",
    "    else:\n",
    "        print('you are ired')\n",
    "else:\n",
    "    print('you are hired')\n"
   ]
  },
  {
   "cell_type": "markdown",
   "id": "9a1d26c2-5384-480e-8479-ec2c87c16ff2",
   "metadata": {},
   "source": [
    "#### loops"
   ]
  },
  {
   "cell_type": "code",
   "execution_count": 15,
   "id": "ffc5d194-bd6e-4e14-9bc3-c326012ec75f",
   "metadata": {},
   "outputs": [
    {
     "name": "stdout",
     "output_type": "stream",
     "text": [
      "hello\n",
      "there\n"
     ]
    }
   ],
   "source": [
    "words = ['hello', 'there']\n",
    "for word in words:\n",
    "    print (word)"
   ]
  },
  {
   "cell_type": "code",
   "execution_count": 7,
   "id": "c69d91d7-e167-487b-a38f-7ede50fee048",
   "metadata": {},
   "outputs": [
    {
     "name": "stdout",
     "output_type": "stream",
     "text": [
      "1\n",
      "2\n",
      "3\n",
      "4\n",
      "5\n",
      "6\n",
      "7\n",
      "28\n"
     ]
    }
   ],
   "source": [
    "total=0\n",
    "for i in range (1,8):\n",
    "    print(i)\n",
    "    total +=i \n",
    "print (total)     \n"
   ]
  },
  {
   "cell_type": "markdown",
   "id": "d3cb5100-ed43-451d-915e-4db261de38b7",
   "metadata": {},
   "source": [
    " #### Functions"
   ]
  },
  {
   "cell_type": "code",
   "execution_count": 16,
   "id": "4b55c1c2-5747-43fc-8326-b9d1c77b12af",
   "metadata": {},
   "outputs": [
    {
     "name": "stdout",
     "output_type": "stream",
     "text": [
      "one plus one\n",
      "2\n"
     ]
    },
    {
     "data": {
      "text/plain": [
       "2"
      ]
     },
     "execution_count": 16,
     "metadata": {},
     "output_type": "execute_result"
    }
   ],
   "source": [
    "def numberer():\n",
    "    print('one plus one')\n",
    "    total=1+1\n",
    "    print(total)\n",
    "    return total\n",
    "numberer()"
   ]
  },
  {
   "cell_type": "code",
   "execution_count": 17,
   "id": "53591640-3e1a-4eaf-9392-fa07dda393d4",
   "metadata": {},
   "outputs": [],
   "source": [
    "def addTheNumbers(p1,p2):\n",
    "    return p1+p2"
   ]
  },
  {
   "cell_type": "code",
   "execution_count": 18,
   "id": "6a617a47-5779-4d99-b4d8-076f4e3d5e06",
   "metadata": {},
   "outputs": [
    {
     "data": {
      "text/plain": [
       "57"
      ]
     },
     "execution_count": 18,
     "metadata": {},
     "output_type": "execute_result"
    }
   ],
   "source": [
    "addTheNumbers(23,34)"
   ]
  },
  {
   "cell_type": "code",
   "execution_count": null,
   "id": "f2e13674-0dbc-47a7-aa1d-61331afaf1d2",
   "metadata": {},
   "outputs": [],
   "source": []
  }
 ],
 "metadata": {
  "kernelspec": {
   "display_name": "Python 3 (ipykernel)",
   "language": "python",
   "name": "python3"
  },
  "language_info": {
   "codemirror_mode": {
    "name": "ipython",
    "version": 3
   },
   "file_extension": ".py",
   "mimetype": "text/x-python",
   "name": "python",
   "nbconvert_exporter": "python",
   "pygments_lexer": "ipython3",
   "version": "3.12.1"
  }
 },
 "nbformat": 4,
 "nbformat_minor": 5
}
